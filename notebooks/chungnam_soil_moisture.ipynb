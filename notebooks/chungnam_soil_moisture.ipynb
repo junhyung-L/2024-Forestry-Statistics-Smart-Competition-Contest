{
 "cells": [
  {
   "cell_type": "code",
   "execution_count": 5,
   "id": "eca8a23d-ea0d-48d0-b286-6e8b5db6fc4e",
   "metadata": {},
   "outputs": [
    {
     "name": "stdout",
     "output_type": "stream",
     "text": [
      "         지역  토양유효수분량\n",
      "0  충청남도 계룡시        3\n",
      "1  충청남도 공주시        5\n",
      "2  충청남도 금산군        3\n"
     ]
    }
   ],
   "source": [
    "import geopandas as gpd\n",
    "import pandas as pd\n",
    "\n",
    "# 지역 구분 사전\n",
    "region_mapping = {\n",
    "    1: \"충청남도 공주시\",\n",
    "    2: \"충청남도 계룡시\",\n",
    "    3: \"충청남도 금산군\"\n",
    "}\n",
    "\n",
    "# 데이터를 저장할 리스트\n",
    "data_frames = []\n",
    "\n",
    "# 파일 읽기 및 데이터 병합\n",
    "for i in range(1, 4):\n",
    "    file_path = f'Desktop/충남수분/{i}/{i}.shp'\n",
    "    df = gpd.read_file(file_path, encoding='cp949')\n",
    "    df['지역'] = region_mapping[i]  # 지역 정보 추가\n",
    "    data_frames.append(df)\n",
    "\n",
    "# 모든 데이터를 하나로 병합\n",
    "merged_data = pd.concat(data_frames, ignore_index=True)\n",
    "\n",
    "# 열 이름 변경\n",
    "merged_data.rename(columns={\n",
    "    'gridcode': '토양유효수분량'\n",
    "}, inplace=True)\n",
    "\n",
    "# 최빈값 계산\n",
    "result = []\n",
    "\n",
    "# 각 지역별 최빈값 계산\n",
    "for region, group in merged_data.groupby('지역'):\n",
    "    values = {\n",
    "        \"지역\": region,\n",
    "        \"토양유효수분량\": group['토양유효수분량'].mode()[0] if not group['토양유효수분량'].mode().empty else None\n",
    "    }\n",
    "    result.append(values)\n",
    "\n",
    "# 결과 데이터프레임 생성\n",
    "result_df = pd.DataFrame(result)\n",
    "\n",
    "# 결과 출력\n",
    "print(result_df)\n",
    "\n",
    "# 결과를 CSV로 저장\n",
    "result_df.to_csv('Desktop/충남수분/충남수분.csv', index=False, encoding='utf-8-sig')\n"
   ]
  }
 ],
 "metadata": {
  "kernelspec": {
   "display_name": "Python 3 (ipykernel)",
   "language": "python",
   "name": "python3"
  },
  "language_info": {
   "codemirror_mode": {
    "name": "ipython",
    "version": 3
   },
   "file_extension": ".py",
   "mimetype": "text/x-python",
   "name": "python",
   "nbconvert_exporter": "python",
   "pygments_lexer": "ipython3",
   "version": "3.12.4"
  }
 },
 "nbformat": 4,
 "nbformat_minor": 5
}
