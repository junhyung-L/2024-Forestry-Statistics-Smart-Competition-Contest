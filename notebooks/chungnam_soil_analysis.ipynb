{
 "cells": [
  {
   "cell_type": "code",
   "execution_count": 1,
   "id": "11502be0-0472-4c74-9f64-628fa5720f15",
   "metadata": {},
   "outputs": [
    {
     "name": "stdout",
     "output_type": "stream",
     "text": [
      "Requirement already satisfied: geopandas in c:\\users\\user\\anaconda3\\lib\\site-packages (1.0.1)\n",
      "Requirement already satisfied: numpy>=1.22 in c:\\users\\user\\anaconda3\\lib\\site-packages (from geopandas) (1.26.4)\n",
      "Requirement already satisfied: pyogrio>=0.7.2 in c:\\users\\user\\anaconda3\\lib\\site-packages (from geopandas) (0.10.0)\n",
      "Requirement already satisfied: packaging in c:\\users\\user\\anaconda3\\lib\\site-packages (from geopandas) (23.2)\n",
      "Requirement already satisfied: pandas>=1.4.0 in c:\\users\\user\\anaconda3\\lib\\site-packages (from geopandas) (2.2.2)\n",
      "Requirement already satisfied: pyproj>=3.3.0 in c:\\users\\user\\anaconda3\\lib\\site-packages (from geopandas) (3.7.0)\n",
      "Requirement already satisfied: shapely>=2.0.0 in c:\\users\\user\\anaconda3\\lib\\site-packages (from geopandas) (2.0.6)\n",
      "Requirement already satisfied: python-dateutil>=2.8.2 in c:\\users\\user\\anaconda3\\lib\\site-packages (from pandas>=1.4.0->geopandas) (2.9.0.post0)\n",
      "Requirement already satisfied: pytz>=2020.1 in c:\\users\\user\\anaconda3\\lib\\site-packages (from pandas>=1.4.0->geopandas) (2024.1)\n",
      "Requirement already satisfied: tzdata>=2022.7 in c:\\users\\user\\anaconda3\\lib\\site-packages (from pandas>=1.4.0->geopandas) (2023.3)\n",
      "Requirement already satisfied: certifi in c:\\users\\user\\anaconda3\\lib\\site-packages (from pyogrio>=0.7.2->geopandas) (2024.6.2)\n",
      "Requirement already satisfied: six>=1.5 in c:\\users\\user\\anaconda3\\lib\\site-packages (from python-dateutil>=2.8.2->pandas>=1.4.0->geopandas) (1.16.0)\n",
      "Requirement already satisfied: fiona in c:\\users\\user\\anaconda3\\lib\\site-packages (1.10.1)\n",
      "Requirement already satisfied: attrs>=19.2.0 in c:\\users\\user\\anaconda3\\lib\\site-packages (from fiona) (23.1.0)\n",
      "Requirement already satisfied: certifi in c:\\users\\user\\anaconda3\\lib\\site-packages (from fiona) (2024.6.2)\n",
      "Requirement already satisfied: click~=8.0 in c:\\users\\user\\anaconda3\\lib\\site-packages (from fiona) (8.1.7)\n",
      "Requirement already satisfied: click-plugins>=1.0 in c:\\users\\user\\anaconda3\\lib\\site-packages (from fiona) (1.1.1)\n",
      "Requirement already satisfied: cligj>=0.5 in c:\\users\\user\\anaconda3\\lib\\site-packages (from fiona) (0.7.2)\n",
      "Requirement already satisfied: colorama in c:\\users\\user\\anaconda3\\lib\\site-packages (from click~=8.0->fiona) (0.4.6)\n"
     ]
    }
   ],
   "source": [
    "!pip install geopandas \n",
    "!pip install fiona"
   ]
  },
  {
   "cell_type": "code",
   "execution_count": 5,
   "id": "ca26e4cd-a65f-4b25-8060-fa5dd8f0e764",
   "metadata": {},
   "outputs": [
    {
     "name": "stdout",
     "output_type": "stream",
     "text": [
      "             지역  토양깊이유형  토성코드  토양형코드\n",
      "0      충청남도 계룡시    20.0     2      2\n",
      "1      충청남도 공주시    20.0     1      1\n",
      "2      충청남도 금산군    20.0     2      2\n",
      "3      충청남도 논산시    20.0     2      2\n",
      "4      충청남도 당진시    20.0     2      2\n",
      "5      충청남도 보령시    20.0     2      2\n",
      "6      충청남도 부여군    20.0     1      1\n",
      "7      충청남도 서산시    20.0     2      2\n",
      "8      충청남도 서천군    20.0     2      2\n",
      "9      충청남도 아산시    20.0     1      1\n",
      "10     충청남도 예산군    20.0     1      1\n",
      "11  충청남도 천안시동남구    20.0     1      1\n",
      "12  충청남도 천안시서북구    20.0     2      2\n",
      "13     충청남도 청양군    20.0     1      1\n",
      "14     충청남도 태안군    20.0     1      1\n",
      "15     충청남도 홍성군    20.0     1      1\n"
     ]
    }
   ],
   "source": [
    "import geopandas as gpd\n",
    "import pandas as pd\n",
    "\n",
    "# 지역 구분 사전\n",
    "region_mapping = {\n",
    "    1: \"충청남도 공주시\",\n",
    "    2: \"충청남도 보령시\",\n",
    "    3: \"충청남도 서산시\",\n",
    "    4: \"충청남도 논산시\",\n",
    "    5: \"충청남도 계룡시\",\n",
    "    6: \"충청남도 당진시\",\n",
    "    7: \"충청남도 금산군\",\n",
    "    8: \"충청남도 부여군\",\n",
    "    9: \"충청남도 천안시동남구\",\n",
    "    10: \"충청남도 아산시\",\n",
    "    11: \"충청남도 서천군\",\n",
    "    12: \"충청남도 예산군\",\n",
    "    13: \"충청남도 천안시서북구\",\n",
    "    14: \"충청남도 청양군\",\n",
    "    15: \"충청남도 태안군\",\n",
    "    16: \"충청남도 홍성군\"\n",
    "}\n",
    "\n",
    "# 데이터를 저장할 리스트\n",
    "data_frames = []\n",
    "\n",
    "# 파일 읽기 및 데이터 병합\n",
    "for i in range(1, 17):\n",
    "    file_path = f'Desktop/충남 토양/{i}/{i}.shp'\n",
    "    df = gpd.read_file(file_path, encoding='cp949')\n",
    "    df['지역'] = region_mapping[i]  # 지역 정보 추가\n",
    "    data_frames.append(df)\n",
    "\n",
    "# 모든 데이터를 하나로 병합\n",
    "merged_data = pd.concat(data_frames, ignore_index=True)\n",
    "\n",
    "# 열 이름 변경\n",
    "merged_data.rename(columns={\n",
    "    'SLDPT_TPCD': '토양깊이유형',\n",
    "    'SCSTX_CD': '토성코드',\n",
    "    'SLTP_CD': '토양형코드'\n",
    "}, inplace=True)\n",
    "\n",
    "# 결측치 제거 및 숫자로 변환\n",
    "for col in ['토양깊이유형', '토성코드', '토양형코드']:\n",
    "    merged_data[col] = pd.to_numeric(merged_data[col], errors='coerce')  # 숫자로 변환, 변환 불가능한 값은 NaN 처리\n",
    "\n",
    "# 결측치 제거\n",
    "merged_data = merged_data.dropna(subset=['토양깊이유형', '토성코드', '토양형코드'])\n",
    "\n",
    "# 최빈값 계산\n",
    "result = []\n",
    "\n",
    "# 각 지역별 최빈값 계산\n",
    "for region, group in merged_data.groupby('지역'):\n",
    "    values = {\n",
    "        \"지역\": region,\n",
    "        \"토양깊이유형\": group['토양깊이유형'].mode()[0] if not group['토양깊이유형'].mode().empty else None,\n",
    "        \"토성코드\": round(group['토성코드'].mean()),\n",
    "        \"토양형코드\": round(group['토성코드'].mean())\n",
    "    }\n",
    "    result.append(values)\n",
    "\n",
    "# 결과 데이터프레임 생성\n",
    "result_df = pd.DataFrame(result)\n",
    "\n",
    "# 결과 출력\n",
    "print(result_df)\n",
    "\n",
    "# 결과를 CSV로 저장\n",
    "result_df.to_csv('Desktop/충남 토양/충남토양.csv', index=False, encoding='utf-8-sig')\n"
   ]
  }
 ],
 "metadata": {
  "kernelspec": {
   "display_name": "Python 3 (ipykernel)",
   "language": "python",
   "name": "python3"
  },
  "language_info": {
   "codemirror_mode": {
    "name": "ipython",
    "version": 3
   },
   "file_extension": ".py",
   "mimetype": "text/x-python",
   "name": "python",
   "nbconvert_exporter": "python",
   "pygments_lexer": "ipython3",
   "version": "3.12.4"
  }
 },
 "nbformat": 4,
 "nbformat_minor": 5
}
