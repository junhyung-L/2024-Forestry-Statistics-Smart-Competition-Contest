{
 "cells": [
  {
   "cell_type": "code",
   "execution_count": 7,
   "id": "96e9009b",
   "metadata": {},
   "outputs": [
    {
     "name": "stdout",
     "output_type": "stream",
     "text": [
      "밤이 가장 많이 나오는 조건:\n",
      "토양깊이유형: 20.0\n",
      "토성코드: 1.0\n",
      "토양형코드: 1.0\n",
      "토양유효수분량: 5.0\n",
      "밤 (kg): 3606565.0\n"
     ]
    }
   ],
   "source": [
    "import pandas as pd\n",
    "\n",
    "# 데이터 불러오기 (경로를 알맞게 수정하세요)\n",
    "file_path = r'C:\\Users\\kh009\\OneDrive\\바탕 화면\\최종임 이게 찐최종.csv'\n",
    "\n",
    "# 파일을 읽을 때, 인코딩을 지정합니다.\n",
    "# 'euc-kr'은 한글 인코딩 파일에 자주 사용됩니다.\n",
    "data = pd.read_csv(file_path, encoding='euc-kr')\n",
    "\n",
    "# 데이터 그룹화 및 평균 계산\n",
    "mean_bam_by_soil_factors = data.groupby(['토양깊이유형', '토성코드', '토양형코드', '토양유효수분량'])['밤 (kg)'].mean().reset_index()\n",
    "\n",
    "# '밤 (kg)'이 가장 큰 행 찾기\n",
    "max_bam_row = mean_bam_by_soil_factors.loc[mean_bam_by_soil_factors['밤 (kg)'].idxmax()]\n",
    "\n",
    "# 결과 출력\n",
    "print(\"밤이 가장 많이 나오는 조건:\")\n",
    "print(f\"토양깊이유형: {max_bam_row['토양깊이유형']}\")\n",
    "print(f\"토성코드: {max_bam_row['토성코드']}\")\n",
    "print(f\"토양형코드: {max_bam_row['토양형코드']}\")\n",
    "print(f\"토양유효수분량: {max_bam_row['토양유효수분량']}\")\n",
    "print(f\"밤 (kg): {max_bam_row['밤 (kg)']}\")\n"
   ]
  },
  {
   "cell_type": "code",
   "execution_count": 10,
   "id": "58f719be",
   "metadata": {},
   "outputs": [
    {
     "name": "stdout",
     "output_type": "stream",
     "text": [
      "각 작물별로 가장 많이 나오는 조건:\n",
      "           작물  토양깊이유형  토성코드  토양형코드  토양유효수분량           최대값\n",
      "0      밤 (kg)    20.0   1.0    1.0      5.0  3.606565e+06\n",
      "1  복분자딸기 (kg)    20.0   2.0    4.0      1.0  2.159792e+06\n",
      "2    오갈피 (kg)    20.0   3.0    3.0      1.0  3.986350e+04\n",
      "3      마 (kg)    20.0   1.0    1.0      4.0  3.159378e+05\n",
      "4    도라지 (kg)    20.0   1.0    2.0      3.0  6.056000e+05\n",
      "5     더덕 (kg)    20.0   3.0    3.0      1.0  2.482904e+06\n",
      "6    생표고 (kg)    20.0   1.0    4.0      2.0  5.880920e+05\n"
     ]
    }
   ],
   "source": [
    "import pandas as pd\n",
    "\n",
    "# 데이터 불러오기 (경로를 알맞게 수정하세요)\n",
    "file_path = r'C:\\Users\\kh009\\OneDrive\\바탕 화면\\최종임 이게 찐최종.csv'\n",
    "\n",
    "# 파일을 읽을 때, 인코딩을 지정합니다.\n",
    "data = pd.read_csv(file_path, encoding='euc-kr')\n",
    "\n",
    "# 작물 리스트\n",
    "crops = ['밤 (kg)', '복분자딸기 (kg)', '오갈피 (kg)', '마 (kg)', '도라지 (kg)', '더덕 (kg)', '생표고 (kg)']\n",
    "\n",
    "# 데이터 정리: 각 작물 열을 숫자형으로 변환 (문자열이 있으면 NaN으로 처리)\n",
    "for crop in crops:\n",
    "    data[crop] = pd.to_numeric(data[crop], errors='coerce')\n",
    "\n",
    "# 각 작물에 대한 조건을 저장할 리스트\n",
    "results = []\n",
    "\n",
    "# 각 작물별로 최대값 조건 찾기\n",
    "for crop in crops:\n",
    "    # 데이터 그룹화 및 평균 계산\n",
    "    mean_crop_by_soil_factors = data.groupby(['토양깊이유형', '토성코드', '토양형코드', '토양유효수분량'])[crop].mean().reset_index()\n",
    "\n",
    "    # NaN 값이 아닌 행만 대상으로 최대값 계산\n",
    "    mean_crop_by_soil_factors = mean_crop_by_soil_factors.dropna(subset=[crop])\n",
    "    \n",
    "    # 해당 작물에서 가장 큰 값을 가진 행 찾기\n",
    "    if not mean_crop_by_soil_factors.empty:\n",
    "        max_crop_row = mean_crop_by_soil_factors.loc[mean_crop_by_soil_factors[crop].idxmax()]\n",
    "        \n",
    "        # 결과 저장\n",
    "        results.append({\n",
    "            '작물': crop,\n",
    "            '토양깊이유형': max_crop_row['토양깊이유형'],\n",
    "            '토성코드': max_crop_row['토성코드'],\n",
    "            '토양형코드': max_crop_row['토양형코드'],\n",
    "            '토양유효수분량': max_crop_row['토양유효수분량'],\n",
    "            '최대값': max_crop_row[crop]\n",
    "        })\n",
    "\n",
    "\n",
    "# 결과를 데이터프레임으로 변환\n",
    "results_df = pd.DataFrame(results)\n",
    "\n",
    "# 결과 출력\n",
    "print(\"각 작물별로 가장 많이 나오는 조건:\")\n",
    "print(results_df)\n",
    "\n",
    "# 결과를 CSV로 저장\n",
    "results_df.to_csv(r'C:\\Users\\kh009\\OneDrive\\바탕 화면\\작물별_최대조건.csv', index=False, encoding='euc-kr')\n"
   ]
  },
  {
   "cell_type": "code",
   "execution_count": null,
   "id": "812eb31f",
   "metadata": {},
   "outputs": [],
   "source": []
  }
 ],
 "metadata": {
  "kernelspec": {
   "display_name": "Python 3 (ipykernel)",
   "language": "python",
   "name": "python3"
  },
  "language_info": {
   "codemirror_mode": {
    "name": "ipython",
    "version": 3
   },
   "file_extension": ".py",
   "mimetype": "text/x-python",
   "name": "python",
   "nbconvert_exporter": "python",
   "pygments_lexer": "ipython3",
   "version": "3.12.4"
  }
 },
 "nbformat": 4,
 "nbformat_minor": 5
}
